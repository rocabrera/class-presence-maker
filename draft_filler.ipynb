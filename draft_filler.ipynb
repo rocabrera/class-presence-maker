{
 "cells": [
  {
   "cell_type": "code",
   "execution_count": 1,
   "id": "eecdea96-927e-4934-9a46-212b0ae99a63",
   "metadata": {},
   "outputs": [],
   "source": [
    "import bs4\n",
    "import yaml\n",
    "import time\n",
    "import pandas as pd\n",
    "from selenium import webdriver\n",
    "from selenium.webdriver.common.by import By\n",
    "from selenium.webdriver.support import expected_conditions as EC\n",
    "from selenium.webdriver.support.ui import WebDriverWait"
   ]
  },
  {
   "cell_type": "code",
   "execution_count": 2,
   "id": "d584784d-50f0-4673-9377-8d000d84cfd0",
   "metadata": {},
   "outputs": [],
   "source": [
    "with open(\"config.yaml\", 'r') as stream:\n",
    "    config=yaml.safe_load(stream)\n",
    "    \n",
    "metting_id = config[\"data\"][\"metting_id\"]\n",
    "zoomfolderpath = config[\"folders\"][\"zoomfolderpath\"]\n",
    "matchfolderpath = config[\"folders\"][\"matchfolderpath\"]\n",
    "\n",
    "email = config[\"login\"][\"email\"]\n",
    "password = config[\"login\"][\"pass\"]"
   ]
  },
  {
   "cell_type": "code",
   "execution_count": 3,
   "id": "69a6d9df-2be5-41fb-a9e5-d79b69b3e35d",
   "metadata": {},
   "outputs": [],
   "source": [
    "\"\"\"\n",
    "Selecting zoom names\n",
    "\"\"\"\n",
    "df = pd.read_csv(f\"{zoomfolderpath}/participants_{metting_id}.csv\")\n",
    "\n",
    "zoom_names = set(\n",
    "    df.rename(columns={\"Name (Original Name)\":\"nomes\"})\n",
    "      .drop_duplicates(subset=\"nomes\")\n",
    "      .loc[:,\"nomes\"]\n",
    "      .str.lower()\n",
    "      .str.strip()\n",
    "      .str.split()\n",
    "      .apply(lambda x: x[0])\n",
    ")"
   ]
  },
  {
   "cell_type": "code",
   "execution_count": 4,
   "id": "832438b4-5d21-4618-83b3-f5781681b2da",
   "metadata": {},
   "outputs": [
    {
     "name": "stderr",
     "output_type": "stream",
     "text": [
      "/tmp/ipykernel_53669/931396387.py:3: DeprecationWarning: executable_path has been deprecated, please pass in a Service object\n",
      "  driver = webdriver.Chrome(r'/home/rocabrera/.local/share/chromedriver')\n"
     ]
    }
   ],
   "source": [
    "#driver = webdriver.Chrome('chromedriver')\n",
    "\n",
    "driver = webdriver.Chrome(r'/home/rocabrera/.local/share/chromedriver')\n",
    "driver.get(\"https://class.letscode.com.br/\")"
   ]
  },
  {
   "cell_type": "code",
   "execution_count": 5,
   "id": "45880102-924c-45a6-9040-8dda8fe72a11",
   "metadata": {},
   "outputs": [],
   "source": [
    "\"\"\"\n",
    "Handle Login \n",
    "\"\"\"\n",
    "\n",
    "email_element = driver.find_element(by=By.ID, value=\"mat-input-1\")\n",
    "email_element.send_keys(email)\n",
    "\n",
    "pass_element = driver.find_element(by=By.ID, value=\"mat-input-2\")\n",
    "pass_element.send_keys(password)\n",
    "\n",
    "login_button = driver.find_element(by=By.XPATH, value='//*[@id=\"login-form\"]/form/button')\n",
    "login_button.click()"
   ]
  },
  {
   "cell_type": "code",
   "execution_count": 6,
   "id": "fa9ab95e-3a30-42de-a84c-9991b3020c27",
   "metadata": {
    "tags": []
   },
   "outputs": [],
   "source": [
    "\"\"\"\n",
    "Essa parte demora ... tem que ter um algum tipo de await complete aq\n",
    "\"\"\"\n",
    "\n",
    "teachers_corner_drop_xpath = '//*[@id=\"container-1\"]/fuse-sidebar/navbar/navbar-vertical-style-1/div[2]/div[2]/fuse-navigation/div/fuse-nav-vertical-group[1]/div[2]/fuse-nav-vertical-collapsable/a'\n",
    "teachers_corner_xpath = '//*[@id=\"container-1\"]/fuse-sidebar/navbar/navbar-vertical-style-1/div[2]/div[2]/fuse-navigation/div/fuse-nav-vertical-group[1]/div[2]/fuse-nav-vertical-collapsable/div/fuse-nav-vertical-item[3]/a'\n",
    "xpaths = [teachers_corner_drop_xpath, teachers_corner_xpath]\n",
    "\n",
    "for xpath in xpaths:\n",
    "    # elemento = EC.presence_of_element_located((By.XPATH, xpath))\n",
    "    # print(elemento)\n",
    "    time.sleep(1)\n",
    "    # WebDriverWait(driver, 30).until(elemento) #This is a dummy element)\n",
    "    driver.find_element(by=By.XPATH, value=xpath).click()\n"
   ]
  },
  {
   "cell_type": "markdown",
   "id": "4ab8f971-2f58-45a9-b9e9-3c302fe51200",
   "metadata": {},
   "source": [
    "NAO TEM LOGICA PARA SELECIONAR O PATH DA DATA"
   ]
  },
  {
   "cell_type": "code",
   "execution_count": 7,
   "id": "0099aa69-5a39-4b57-bb18-16afe3dfa858",
   "metadata": {},
   "outputs": [],
   "source": [
    "aba_presencas = '//*[@id=\"mat-tab-label-1-3\"]'\n",
    "driver.find_element(by=By.XPATH, value=aba_presencas).click()"
   ]
  },
  {
   "cell_type": "code",
   "execution_count": 8,
   "id": "8c3bbe1d-1f45-49aa-b498-5839e8d94953",
   "metadata": {},
   "outputs": [],
   "source": [
    "turma_xpath = '//*[@id=\"mat-select-5\"]/div/div[1]/span/mat-select-trigger'\n",
    "driver.find_element(by=By.XPATH, value=turma_xpath).click()"
   ]
  },
  {
   "cell_type": "code",
   "execution_count": 9,
   "id": "74e65cf7-3e49-4bce-a21a-a70fec95fd00",
   "metadata": {},
   "outputs": [],
   "source": [
    "turma_number_xpath = '//*[@id=\"mat-option-34\"]'\n",
    "driver.find_element(by=By.XPATH, value=turma_number_xpath).click()"
   ]
  },
  {
   "cell_type": "code",
   "execution_count": 10,
   "id": "26eb5753-0c24-4d43-9471-3507b1def711",
   "metadata": {},
   "outputs": [],
   "source": [
    "data_xpath = '//*[@id=\"widget-class-checkin\"]/div/div/div[2]/div[1]/mat-list/mat-list-item[123]/div'\n",
    "driver.find_element(by=By.XPATH, value=data_xpath).click() "
   ]
  },
  {
   "cell_type": "code",
   "execution_count": 11,
   "id": "a72dc6e2-d454-4436-b75f-5a5948f9c46d",
   "metadata": {
    "tags": []
   },
   "outputs": [
    {
     "name": "stdout",
     "output_type": "stream",
     "text": [
      "Faltou: daniela\n",
      "Faltou: eder\n",
      "Faltou: elias\n",
      "Faltou: enzo\n",
      "Faltou: fabio\n",
      "Faltou: marco\n",
      "Faltou: ronni\n",
      "Faltou: leticia\n",
      "Faltou: sara\n"
     ]
    }
   ],
   "source": [
    "alunos = driver.find_elements(by=By.CLASS_NAME, value=\"members-table-row\")\n",
    "\n",
    "for aluno in alunos[4:]:\n",
    "    driver.execute_script('arguments[0].scrollIntoView();', aluno)\n",
    "    \n",
    "    name, *_, remote_checkbox = aluno.find_elements(by=By.CLASS_NAME, value=\"members-table-column\") \n",
    "    #checkbox = aluno.find_element(by=By.CLASS_NAME, value=\"mat-checkbox-inner-container\") \n",
    "    parsed_class_name = name.text.lower().split()[0]\n",
    "    if parsed_class_name in zoom_names:\n",
    "        remote_checkbox.click()\n",
    "    else:\n",
    "        print(f\"Faltou: {parsed_class_name}\")\n",
    "    # webelement[-1].click()\n",
    "    \n",
    "    # remoto.click()\n",
    "    # time.sleep(0.01)\n"
   ]
  },
  {
   "cell_type": "code",
   "execution_count": null,
   "id": "1369298a-a2bd-4c4e-acf6-a344f6dc81d4",
   "metadata": {},
   "outputs": [],
   "source": [
    "# \"\"\"\n",
    "# Da para utilizar para fazer scroll down\n",
    "# \"\"\"\n",
    "\n",
    "# names = WebDriverWait(driver, 15).until(EC.presence_of_all_elements_located((By.CLASS_NAME, 'members-table-row')))\n",
    "\n",
    "# while True:\n",
    "#     # Scroll down to last name in list\n",
    "#     driver.execute_script('arguments[0].scrollIntoView();', hotels[-1])\n",
    "#     try:\n",
    "#         # Wait for more names to be loaded\n",
    "#         WebDriverWait(driver, 15).until(lambda driver: len(wait(driver, 15).until(EC.presence_of_all_elements_located((By.CLASS_NAME, 'hotel-name')))) > len(hotels))\n",
    "#         # Update names list \n",
    "#         hotels = WebDriverWait(driver, 15).until(EC.presence_of_all_elements_located((By.CLASS_NAME, 'hotel-name')))\n",
    "#     except:\n",
    "#         # Break the loop in case no new names loaded after page scrolled down\n",
    "#         break\n"
   ]
  }
 ],
 "metadata": {
  "kernelspec": {
   "display_name": "venv_playground",
   "language": "python",
   "name": "venv_playground"
  },
  "language_info": {
   "codemirror_mode": {
    "name": "ipython",
    "version": 3
   },
   "file_extension": ".py",
   "mimetype": "text/x-python",
   "name": "python",
   "nbconvert_exporter": "python",
   "pygments_lexer": "ipython3",
   "version": "3.9.9"
  }
 },
 "nbformat": 4,
 "nbformat_minor": 5
}
